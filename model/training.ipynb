{
 "cells": [
  {
   "cell_type": "markdown",
   "metadata": {},
   "source": [
    "# <span style=\"color:green\">**TOMATO LEAF DISEASE CLASSIFICATION**</span>"
   ]
  },
  {
   "cell_type": "markdown",
   "metadata": {},
   "source": [
    "This notebook focuses on building a robust Tomato Leaf Disease Classification model using deep learning techniques. Taking advantage of **transfer learning**, the project utilizes the **MobileNet** architecture, known for its lightweight, efficiency and high performance on image classification tasks. By analyzing images of tomato leaves, the model aims to accurately identify various diseases."
   ]
  },
  {
   "cell_type": "markdown",
   "metadata": {},
   "source": [
    "***Importing required libraries***"
   ]
  },
  {
   "cell_type": "code",
   "execution_count": 1,
   "metadata": {},
   "outputs": [],
   "source": [
    "import json\n",
    "import os\n",
    "import numpy as np\n",
    "import seaborn as sn\n",
    "import matplotlib.pyplot as plt\n",
    "from sklearn.metrics import classification_report, confusion_matrix\n",
    "from tensorflow.keras.preprocessing import image_dataset_from_directory\n",
    "from tensorflow import keras\n",
    "from tensorflow.keras import layers\n",
    "from tensorflow.keras.optimizers import Adam\n",
    "from tensorflow.keras.applications import MobileNetV3Small\n",
    "from tensorflow.keras.callbacks import ModelCheckpoint, EarlyStopping\n",
    "from warnings import filterwarnings"
   ]
  },
  {
   "cell_type": "code",
   "execution_count": 2,
   "metadata": {},
   "outputs": [],
   "source": [
    "filterwarnings('ignore')"
   ]
  },
  {
   "cell_type": "markdown",
   "metadata": {},
   "source": [
    "***Defining some configuration parameters***"
   ]
  },
  {
   "cell_type": "code",
   "execution_count": 3,
   "metadata": {},
   "outputs": [],
   "source": [
    "NUM_CLASSES = 11\n",
    "IMG_SIZE = [224,224,3]\n",
    "BATCH_SIZE = 32\n",
    "SEED = 7\n",
    "LEARNING_RATE = 1e-4\n",
    "EPOCHS = 100"
   ]
  },
  {
   "cell_type": "markdown",
   "metadata": {},
   "source": [
    "***Loading the training, validation and testing images from the file system***"
   ]
  },
  {
   "cell_type": "code",
   "execution_count": 4,
   "metadata": {},
   "outputs": [
    {
     "name": "stdout",
     "output_type": "stream",
     "text": [
      "Found 23861 files belonging to 11 classes.\n",
      "Using 19089 files for training.\n",
      "Using 4772 files for validation.\n",
      "Found 6678 files belonging to 11 classes.\n"
     ]
    }
   ],
   "source": [
    "train_ds, val_ds = image_dataset_from_directory('dataset\\\\train\\\\',subset='both',seed=SEED,batch_size=BATCH_SIZE,image_size=IMG_SIZE[:-1],validation_split=0.2)\n",
    "test_ds = image_dataset_from_directory('dataset\\\\valid\\\\',image_size=IMG_SIZE[:-1])"
   ]
  },
  {
   "cell_type": "markdown",
   "metadata": {},
   "source": [
    "***Getting the MobileNet model and freezing its layers***"
   ]
  },
  {
   "cell_type": "code",
   "execution_count": 5,
   "metadata": {},
   "outputs": [],
   "source": [
    "base = MobileNetV3Small(\n",
    "    include_top=False,\n",
    "    input_shape=IMG_SIZE,\n",
    "    include_preprocessing=True\n",
    ")\n",
    "base.trainable = False"
   ]
  },
  {
   "cell_type": "markdown",
   "metadata": {},
   "source": [
    "***Building the Model with the Top Classification Layer and Compiling It***"
   ]
  },
  {
   "cell_type": "code",
   "execution_count": 6,
   "metadata": {},
   "outputs": [],
   "source": [
    "inp = keras.Input(shape=(None,None,None))\n",
    "x = layers.Resizing(IMG_SIZE[0], IMG_SIZE[1])(inp)\n",
    "x = base(x)\n",
    "x = layers.GlobalAveragePooling2D()(x)\n",
    "x = layers.Dropout(.25)(x)\n",
    "x = layers.Dense(128,activation='relu')(x)\n",
    "x = layers.Dense(256,activation='relu')(x)\n",
    "out = layers.Dense(NUM_CLASSES,activation='softmax')(x)\n",
    "\n",
    "\n",
    "model = keras.Model(inp,out)\n",
    "model.compile(\n",
    "                loss='sparse_categorical_crossentropy',\n",
    "                optimizer=Adam(learning_rate=LEARNING_RATE),\n",
    "                metrics=['accuracy']\n",
    "                )"
   ]
  },
  {
   "cell_type": "markdown",
   "metadata": {},
   "source": [
    "***Displaying a summary of the Model Architecture***"
   ]
  },
  {
   "cell_type": "code",
   "execution_count": 7,
   "metadata": {},
   "outputs": [
    {
     "name": "stdout",
     "output_type": "stream",
     "text": [
      "Model: \"model\"\n",
      "_________________________________________________________________\n",
      " Layer (type)                Output Shape              Param #   \n",
      "=================================================================\n",
      " input_2 (InputLayer)        [(None, None, None, None  0         \n",
      "                             )]                                  \n",
      "                                                                 \n",
      " resizing (Resizing)         (None, 224, 224, None)    0         \n",
      "                                                                 \n",
      " MobilenetV3small (Functiona  (None, 7, 7, 576)        939120    \n",
      " l)                                                              \n",
      "                                                                 \n",
      " global_average_pooling2d (G  (None, 576)              0         \n",
      " lobalAveragePooling2D)                                          \n",
      "                                                                 \n",
      " dropout (Dropout)           (None, 576)               0         \n",
      "                                                                 \n",
      " dense (Dense)               (None, 128)               73856     \n",
      "                                                                 \n",
      " dense_1 (Dense)             (None, 256)               33024     \n",
      "                                                                 \n",
      " dense_2 (Dense)             (None, 11)                2827      \n",
      "                                                                 \n",
      "=================================================================\n",
      "Total params: 1,048,827\n",
      "Trainable params: 109,707\n",
      "Non-trainable params: 939,120\n",
      "_________________________________________________________________\n"
     ]
    }
   ],
   "source": [
    "model.summary()"
   ]
  },
  {
   "cell_type": "markdown",
   "metadata": {},
   "source": [
    "***Defining callbacks for model training***"
   ]
  },
  {
   "cell_type": "code",
   "execution_count": 8,
   "metadata": {},
   "outputs": [],
   "source": [
    "callbacks = [\n",
    "    ModelCheckpoint(save_best_only=True,filepath='model/',monitor='val_loss'),\n",
    "    EarlyStopping(patience=5,monitor='val_loss')\n",
    "]"
   ]
  },
  {
   "cell_type": "markdown",
   "metadata": {},
   "source": [
    "***Training the model***"
   ]
  },
  {
   "cell_type": "code",
   "execution_count": 9,
   "metadata": {},
   "outputs": [
    {
     "name": "stdout",
     "output_type": "stream",
     "text": [
      "Epoch 1/100\n",
      "597/597 [==============================] - ETA: 0s - loss: 1.5006 - accuracy: 0.5149"
     ]
    },
    {
     "name": "stderr",
     "output_type": "stream",
     "text": [
      "WARNING:absl:Found untraced functions such as _jit_compiled_convolution_op, _jit_compiled_convolution_op, _jit_compiled_convolution_op, _jit_compiled_convolution_op, _jit_compiled_convolution_op while saving (showing 5 of 52). These functions will not be directly callable after loading.\n"
     ]
    },
    {
     "name": "stdout",
     "output_type": "stream",
     "text": [
      "INFO:tensorflow:Assets written to: model\\assets\n"
     ]
    },
    {
     "name": "stderr",
     "output_type": "stream",
     "text": [
      "INFO:tensorflow:Assets written to: model\\assets\n"
     ]
    },
    {
     "name": "stdout",
     "output_type": "stream",
     "text": [
      "597/597 [==============================] - 56s 84ms/step - loss: 1.5006 - accuracy: 0.5149 - val_loss: 0.8275 - val_accuracy: 0.7529\n",
      "Epoch 2/100\n",
      "596/597 [============================>.] - ETA: 0s - loss: 0.8270 - accuracy: 0.7350"
     ]
    },
    {
     "name": "stderr",
     "output_type": "stream",
     "text": [
      "WARNING:absl:Found untraced functions such as _jit_compiled_convolution_op, _jit_compiled_convolution_op, _jit_compiled_convolution_op, _jit_compiled_convolution_op, _jit_compiled_convolution_op while saving (showing 5 of 52). These functions will not be directly callable after loading.\n"
     ]
    },
    {
     "name": "stdout",
     "output_type": "stream",
     "text": [
      "INFO:tensorflow:Assets written to: model\\assets\n"
     ]
    },
    {
     "name": "stderr",
     "output_type": "stream",
     "text": [
      "INFO:tensorflow:Assets written to: model\\assets\n"
     ]
    },
    {
     "name": "stdout",
     "output_type": "stream",
     "text": [
      "597/597 [==============================] - 57s 94ms/step - loss: 0.8269 - accuracy: 0.7349 - val_loss: 0.6069 - val_accuracy: 0.8137\n",
      "Epoch 3/100\n",
      "596/597 [============================>.] - ETA: 0s - loss: 0.6733 - accuracy: 0.7820"
     ]
    },
    {
     "name": "stderr",
     "output_type": "stream",
     "text": [
      "WARNING:absl:Found untraced functions such as _jit_compiled_convolution_op, _jit_compiled_convolution_op, _jit_compiled_convolution_op, _jit_compiled_convolution_op, _jit_compiled_convolution_op while saving (showing 5 of 52). These functions will not be directly callable after loading.\n"
     ]
    },
    {
     "name": "stdout",
     "output_type": "stream",
     "text": [
      "INFO:tensorflow:Assets written to: model\\assets\n"
     ]
    },
    {
     "name": "stderr",
     "output_type": "stream",
     "text": [
      "INFO:tensorflow:Assets written to: model\\assets\n"
     ]
    },
    {
     "name": "stdout",
     "output_type": "stream",
     "text": [
      "597/597 [==============================] - 57s 95ms/step - loss: 0.6735 - accuracy: 0.7819 - val_loss: 0.5184 - val_accuracy: 0.8372\n",
      "Epoch 4/100\n",
      "596/597 [============================>.] - ETA: 0s - loss: 0.5981 - accuracy: 0.8039"
     ]
    },
    {
     "name": "stderr",
     "output_type": "stream",
     "text": [
      "WARNING:absl:Found untraced functions such as _jit_compiled_convolution_op, _jit_compiled_convolution_op, _jit_compiled_convolution_op, _jit_compiled_convolution_op, _jit_compiled_convolution_op while saving (showing 5 of 52). These functions will not be directly callable after loading.\n"
     ]
    },
    {
     "name": "stdout",
     "output_type": "stream",
     "text": [
      "INFO:tensorflow:Assets written to: model\\assets\n"
     ]
    },
    {
     "name": "stderr",
     "output_type": "stream",
     "text": [
      "INFO:tensorflow:Assets written to: model\\assets\n"
     ]
    },
    {
     "name": "stdout",
     "output_type": "stream",
     "text": [
      "597/597 [==============================] - 57s 95ms/step - loss: 0.5979 - accuracy: 0.8040 - val_loss: 0.4611 - val_accuracy: 0.8508\n",
      "Epoch 5/100\n",
      "597/597 [==============================] - ETA: 0s - loss: 0.5477 - accuracy: 0.8192"
     ]
    },
    {
     "name": "stderr",
     "output_type": "stream",
     "text": [
      "WARNING:absl:Found untraced functions such as _jit_compiled_convolution_op, _jit_compiled_convolution_op, _jit_compiled_convolution_op, _jit_compiled_convolution_op, _jit_compiled_convolution_op while saving (showing 5 of 52). These functions will not be directly callable after loading.\n"
     ]
    },
    {
     "name": "stdout",
     "output_type": "stream",
     "text": [
      "INFO:tensorflow:Assets written to: model\\assets\n"
     ]
    },
    {
     "name": "stderr",
     "output_type": "stream",
     "text": [
      "INFO:tensorflow:Assets written to: model\\assets\n"
     ]
    },
    {
     "name": "stdout",
     "output_type": "stream",
     "text": [
      "597/597 [==============================] - 58s 96ms/step - loss: 0.5477 - accuracy: 0.8192 - val_loss: 0.4253 - val_accuracy: 0.8613\n",
      "Epoch 6/100\n",
      "597/597 [==============================] - ETA: 0s - loss: 0.5034 - accuracy: 0.8301"
     ]
    },
    {
     "name": "stderr",
     "output_type": "stream",
     "text": [
      "WARNING:absl:Found untraced functions such as _jit_compiled_convolution_op, _jit_compiled_convolution_op, _jit_compiled_convolution_op, _jit_compiled_convolution_op, _jit_compiled_convolution_op while saving (showing 5 of 52). These functions will not be directly callable after loading.\n"
     ]
    },
    {
     "name": "stdout",
     "output_type": "stream",
     "text": [
      "INFO:tensorflow:Assets written to: model\\assets\n"
     ]
    },
    {
     "name": "stderr",
     "output_type": "stream",
     "text": [
      "INFO:tensorflow:Assets written to: model\\assets\n"
     ]
    },
    {
     "name": "stdout",
     "output_type": "stream",
     "text": [
      "597/597 [==============================] - 57s 96ms/step - loss: 0.5034 - accuracy: 0.8301 - val_loss: 0.3963 - val_accuracy: 0.8692\n",
      "Epoch 7/100\n",
      "597/597 [==============================] - ETA: 0s - loss: 0.4793 - accuracy: 0.8404"
     ]
    },
    {
     "name": "stderr",
     "output_type": "stream",
     "text": [
      "WARNING:absl:Found untraced functions such as _jit_compiled_convolution_op, _jit_compiled_convolution_op, _jit_compiled_convolution_op, _jit_compiled_convolution_op, _jit_compiled_convolution_op while saving (showing 5 of 52). These functions will not be directly callable after loading.\n"
     ]
    },
    {
     "name": "stdout",
     "output_type": "stream",
     "text": [
      "INFO:tensorflow:Assets written to: model\\assets\n"
     ]
    },
    {
     "name": "stderr",
     "output_type": "stream",
     "text": [
      "INFO:tensorflow:Assets written to: model\\assets\n"
     ]
    },
    {
     "name": "stdout",
     "output_type": "stream",
     "text": [
      "597/597 [==============================] - 54s 90ms/step - loss: 0.4793 - accuracy: 0.8404 - val_loss: 0.3782 - val_accuracy: 0.8707\n",
      "Epoch 8/100\n",
      "597/597 [==============================] - ETA: 0s - loss: 0.4492 - accuracy: 0.8484"
     ]
    },
    {
     "name": "stderr",
     "output_type": "stream",
     "text": [
      "WARNING:absl:Found untraced functions such as _jit_compiled_convolution_op, _jit_compiled_convolution_op, _jit_compiled_convolution_op, _jit_compiled_convolution_op, _jit_compiled_convolution_op while saving (showing 5 of 52). These functions will not be directly callable after loading.\n"
     ]
    },
    {
     "name": "stdout",
     "output_type": "stream",
     "text": [
      "INFO:tensorflow:Assets written to: model\\assets\n"
     ]
    },
    {
     "name": "stderr",
     "output_type": "stream",
     "text": [
      "INFO:tensorflow:Assets written to: model\\assets\n"
     ]
    },
    {
     "name": "stdout",
     "output_type": "stream",
     "text": [
      "597/597 [==============================] - 55s 92ms/step - loss: 0.4492 - accuracy: 0.8484 - val_loss: 0.3558 - val_accuracy: 0.8806\n",
      "Epoch 9/100\n",
      "597/597 [==============================] - ETA: 0s - loss: 0.4370 - accuracy: 0.8520"
     ]
    },
    {
     "name": "stderr",
     "output_type": "stream",
     "text": [
      "WARNING:absl:Found untraced functions such as _jit_compiled_convolution_op, _jit_compiled_convolution_op, _jit_compiled_convolution_op, _jit_compiled_convolution_op, _jit_compiled_convolution_op while saving (showing 5 of 52). These functions will not be directly callable after loading.\n"
     ]
    },
    {
     "name": "stdout",
     "output_type": "stream",
     "text": [
      "INFO:tensorflow:Assets written to: model\\assets\n"
     ]
    },
    {
     "name": "stderr",
     "output_type": "stream",
     "text": [
      "INFO:tensorflow:Assets written to: model\\assets\n"
     ]
    },
    {
     "name": "stdout",
     "output_type": "stream",
     "text": [
      "597/597 [==============================] - 57s 94ms/step - loss: 0.4370 - accuracy: 0.8520 - val_loss: 0.3442 - val_accuracy: 0.8858\n",
      "Epoch 10/100\n",
      "597/597 [==============================] - ETA: 0s - loss: 0.4169 - accuracy: 0.8595"
     ]
    },
    {
     "name": "stderr",
     "output_type": "stream",
     "text": [
      "WARNING:absl:Found untraced functions such as _jit_compiled_convolution_op, _jit_compiled_convolution_op, _jit_compiled_convolution_op, _jit_compiled_convolution_op, _jit_compiled_convolution_op while saving (showing 5 of 52). These functions will not be directly callable after loading.\n"
     ]
    },
    {
     "name": "stdout",
     "output_type": "stream",
     "text": [
      "INFO:tensorflow:Assets written to: model\\assets\n"
     ]
    },
    {
     "name": "stderr",
     "output_type": "stream",
     "text": [
      "INFO:tensorflow:Assets written to: model\\assets\n"
     ]
    },
    {
     "name": "stdout",
     "output_type": "stream",
     "text": [
      "597/597 [==============================] - 60s 100ms/step - loss: 0.4169 - accuracy: 0.8595 - val_loss: 0.3238 - val_accuracy: 0.8929\n",
      "Epoch 11/100\n",
      "597/597 [==============================] - ETA: 0s - loss: 0.4050 - accuracy: 0.8623"
     ]
    },
    {
     "name": "stderr",
     "output_type": "stream",
     "text": [
      "WARNING:absl:Found untraced functions such as _jit_compiled_convolution_op, _jit_compiled_convolution_op, _jit_compiled_convolution_op, _jit_compiled_convolution_op, _jit_compiled_convolution_op while saving (showing 5 of 52). These functions will not be directly callable after loading.\n"
     ]
    },
    {
     "name": "stdout",
     "output_type": "stream",
     "text": [
      "INFO:tensorflow:Assets written to: model\\assets\n"
     ]
    },
    {
     "name": "stderr",
     "output_type": "stream",
     "text": [
      "INFO:tensorflow:Assets written to: model\\assets\n"
     ]
    },
    {
     "name": "stdout",
     "output_type": "stream",
     "text": [
      "597/597 [==============================] - 50s 83ms/step - loss: 0.4050 - accuracy: 0.8623 - val_loss: 0.3105 - val_accuracy: 0.8944\n",
      "Epoch 12/100\n",
      "597/597 [==============================] - ETA: 0s - loss: 0.3850 - accuracy: 0.8701"
     ]
    },
    {
     "name": "stderr",
     "output_type": "stream",
     "text": [
      "WARNING:absl:Found untraced functions such as _jit_compiled_convolution_op, _jit_compiled_convolution_op, _jit_compiled_convolution_op, _jit_compiled_convolution_op, _jit_compiled_convolution_op while saving (showing 5 of 52). These functions will not be directly callable after loading.\n"
     ]
    },
    {
     "name": "stdout",
     "output_type": "stream",
     "text": [
      "INFO:tensorflow:Assets written to: model\\assets\n"
     ]
    },
    {
     "name": "stderr",
     "output_type": "stream",
     "text": [
      "INFO:tensorflow:Assets written to: model\\assets\n"
     ]
    },
    {
     "name": "stdout",
     "output_type": "stream",
     "text": [
      "597/597 [==============================] - 50s 84ms/step - loss: 0.3850 - accuracy: 0.8701 - val_loss: 0.3087 - val_accuracy: 0.8948\n",
      "Epoch 13/100\n",
      "597/597 [==============================] - ETA: 0s - loss: 0.3686 - accuracy: 0.8743"
     ]
    },
    {
     "name": "stderr",
     "output_type": "stream",
     "text": [
      "WARNING:absl:Found untraced functions such as _jit_compiled_convolution_op, _jit_compiled_convolution_op, _jit_compiled_convolution_op, _jit_compiled_convolution_op, _jit_compiled_convolution_op while saving (showing 5 of 52). These functions will not be directly callable after loading.\n"
     ]
    },
    {
     "name": "stdout",
     "output_type": "stream",
     "text": [
      "INFO:tensorflow:Assets written to: model\\assets\n"
     ]
    },
    {
     "name": "stderr",
     "output_type": "stream",
     "text": [
      "INFO:tensorflow:Assets written to: model\\assets\n"
     ]
    },
    {
     "name": "stdout",
     "output_type": "stream",
     "text": [
      "597/597 [==============================] - 55s 92ms/step - loss: 0.3686 - accuracy: 0.8743 - val_loss: 0.2864 - val_accuracy: 0.9078\n",
      "Epoch 14/100\n",
      "597/597 [==============================] - 33s 55ms/step - loss: 0.3600 - accuracy: 0.8774 - val_loss: 0.2939 - val_accuracy: 0.9015\n",
      "Epoch 15/100\n",
      "597/597 [==============================] - ETA: 0s - loss: 0.3449 - accuracy: 0.8834"
     ]
    },
    {
     "name": "stderr",
     "output_type": "stream",
     "text": [
      "WARNING:absl:Found untraced functions such as _jit_compiled_convolution_op, _jit_compiled_convolution_op, _jit_compiled_convolution_op, _jit_compiled_convolution_op, _jit_compiled_convolution_op while saving (showing 5 of 52). These functions will not be directly callable after loading.\n"
     ]
    },
    {
     "name": "stdout",
     "output_type": "stream",
     "text": [
      "INFO:tensorflow:Assets written to: model\\assets\n"
     ]
    },
    {
     "name": "stderr",
     "output_type": "stream",
     "text": [
      "INFO:tensorflow:Assets written to: model\\assets\n"
     ]
    },
    {
     "name": "stdout",
     "output_type": "stream",
     "text": [
      "597/597 [==============================] - 56s 93ms/step - loss: 0.3449 - accuracy: 0.8834 - val_loss: 0.2748 - val_accuracy: 0.9072\n",
      "Epoch 16/100\n",
      "597/597 [==============================] - ETA: 0s - loss: 0.3389 - accuracy: 0.8838"
     ]
    },
    {
     "name": "stderr",
     "output_type": "stream",
     "text": [
      "WARNING:absl:Found untraced functions such as _jit_compiled_convolution_op, _jit_compiled_convolution_op, _jit_compiled_convolution_op, _jit_compiled_convolution_op, _jit_compiled_convolution_op while saving (showing 5 of 52). These functions will not be directly callable after loading.\n"
     ]
    },
    {
     "name": "stdout",
     "output_type": "stream",
     "text": [
      "INFO:tensorflow:Assets written to: model\\assets\n"
     ]
    },
    {
     "name": "stderr",
     "output_type": "stream",
     "text": [
      "INFO:tensorflow:Assets written to: model\\assets\n"
     ]
    },
    {
     "name": "stdout",
     "output_type": "stream",
     "text": [
      "597/597 [==============================] - 51s 85ms/step - loss: 0.3389 - accuracy: 0.8838 - val_loss: 0.2746 - val_accuracy: 0.9097\n",
      "Epoch 17/100\n",
      "597/597 [==============================] - ETA: 0s - loss: 0.3307 - accuracy: 0.8872"
     ]
    },
    {
     "name": "stderr",
     "output_type": "stream",
     "text": [
      "WARNING:absl:Found untraced functions such as _jit_compiled_convolution_op, _jit_compiled_convolution_op, _jit_compiled_convolution_op, _jit_compiled_convolution_op, _jit_compiled_convolution_op while saving (showing 5 of 52). These functions will not be directly callable after loading.\n"
     ]
    },
    {
     "name": "stdout",
     "output_type": "stream",
     "text": [
      "INFO:tensorflow:Assets written to: model\\assets\n"
     ]
    },
    {
     "name": "stderr",
     "output_type": "stream",
     "text": [
      "INFO:tensorflow:Assets written to: model\\assets\n"
     ]
    },
    {
     "name": "stdout",
     "output_type": "stream",
     "text": [
      "597/597 [==============================] - 51s 84ms/step - loss: 0.3307 - accuracy: 0.8872 - val_loss: 0.2652 - val_accuracy: 0.9080\n",
      "Epoch 18/100\n",
      "596/597 [============================>.] - ETA: 0s - loss: 0.3207 - accuracy: 0.8896"
     ]
    },
    {
     "name": "stderr",
     "output_type": "stream",
     "text": [
      "WARNING:absl:Found untraced functions such as _jit_compiled_convolution_op, _jit_compiled_convolution_op, _jit_compiled_convolution_op, _jit_compiled_convolution_op, _jit_compiled_convolution_op while saving (showing 5 of 52). These functions will not be directly callable after loading.\n"
     ]
    },
    {
     "name": "stdout",
     "output_type": "stream",
     "text": [
      "INFO:tensorflow:Assets written to: model\\assets\n"
     ]
    },
    {
     "name": "stderr",
     "output_type": "stream",
     "text": [
      "INFO:tensorflow:Assets written to: model\\assets\n"
     ]
    },
    {
     "name": "stdout",
     "output_type": "stream",
     "text": [
      "597/597 [==============================] - 51s 84ms/step - loss: 0.3209 - accuracy: 0.8896 - val_loss: 0.2551 - val_accuracy: 0.9141\n",
      "Epoch 19/100\n",
      "597/597 [==============================] - ETA: 0s - loss: 0.3089 - accuracy: 0.8944"
     ]
    },
    {
     "name": "stderr",
     "output_type": "stream",
     "text": [
      "WARNING:absl:Found untraced functions such as _jit_compiled_convolution_op, _jit_compiled_convolution_op, _jit_compiled_convolution_op, _jit_compiled_convolution_op, _jit_compiled_convolution_op while saving (showing 5 of 52). These functions will not be directly callable after loading.\n"
     ]
    },
    {
     "name": "stdout",
     "output_type": "stream",
     "text": [
      "INFO:tensorflow:Assets written to: model\\assets\n"
     ]
    },
    {
     "name": "stderr",
     "output_type": "stream",
     "text": [
      "INFO:tensorflow:Assets written to: model\\assets\n"
     ]
    },
    {
     "name": "stdout",
     "output_type": "stream",
     "text": [
      "597/597 [==============================] - 51s 85ms/step - loss: 0.3089 - accuracy: 0.8944 - val_loss: 0.2510 - val_accuracy: 0.9143\n",
      "Epoch 20/100\n",
      "597/597 [==============================] - 34s 57ms/step - loss: 0.3051 - accuracy: 0.8948 - val_loss: 0.2557 - val_accuracy: 0.9170\n",
      "Epoch 21/100\n",
      "597/597 [==============================] - ETA: 0s - loss: 0.2968 - accuracy: 0.8974"
     ]
    },
    {
     "name": "stderr",
     "output_type": "stream",
     "text": [
      "WARNING:absl:Found untraced functions such as _jit_compiled_convolution_op, _jit_compiled_convolution_op, _jit_compiled_convolution_op, _jit_compiled_convolution_op, _jit_compiled_convolution_op while saving (showing 5 of 52). These functions will not be directly callable after loading.\n"
     ]
    },
    {
     "name": "stdout",
     "output_type": "stream",
     "text": [
      "INFO:tensorflow:Assets written to: model\\assets\n"
     ]
    },
    {
     "name": "stderr",
     "output_type": "stream",
     "text": [
      "INFO:tensorflow:Assets written to: model\\assets\n"
     ]
    },
    {
     "name": "stdout",
     "output_type": "stream",
     "text": [
      "597/597 [==============================] - 58s 97ms/step - loss: 0.2968 - accuracy: 0.8974 - val_loss: 0.2402 - val_accuracy: 0.9223\n",
      "Epoch 22/100\n",
      "597/597 [==============================] - ETA: 0s - loss: 0.2901 - accuracy: 0.9021"
     ]
    },
    {
     "name": "stderr",
     "output_type": "stream",
     "text": [
      "WARNING:absl:Found untraced functions such as _jit_compiled_convolution_op, _jit_compiled_convolution_op, _jit_compiled_convolution_op, _jit_compiled_convolution_op, _jit_compiled_convolution_op while saving (showing 5 of 52). These functions will not be directly callable after loading.\n"
     ]
    },
    {
     "name": "stdout",
     "output_type": "stream",
     "text": [
      "INFO:tensorflow:Assets written to: model\\assets\n"
     ]
    },
    {
     "name": "stderr",
     "output_type": "stream",
     "text": [
      "INFO:tensorflow:Assets written to: model\\assets\n"
     ]
    },
    {
     "name": "stdout",
     "output_type": "stream",
     "text": [
      "597/597 [==============================] - 56s 93ms/step - loss: 0.2901 - accuracy: 0.9021 - val_loss: 0.2358 - val_accuracy: 0.9197\n",
      "Epoch 23/100\n",
      "597/597 [==============================] - 32s 53ms/step - loss: 0.2801 - accuracy: 0.9058 - val_loss: 0.2517 - val_accuracy: 0.9168\n",
      "Epoch 24/100\n",
      "596/597 [============================>.] - ETA: 0s - loss: 0.2763 - accuracy: 0.9077"
     ]
    },
    {
     "name": "stderr",
     "output_type": "stream",
     "text": [
      "WARNING:absl:Found untraced functions such as _jit_compiled_convolution_op, _jit_compiled_convolution_op, _jit_compiled_convolution_op, _jit_compiled_convolution_op, _jit_compiled_convolution_op while saving (showing 5 of 52). These functions will not be directly callable after loading.\n"
     ]
    },
    {
     "name": "stdout",
     "output_type": "stream",
     "text": [
      "INFO:tensorflow:Assets written to: model\\assets\n"
     ]
    },
    {
     "name": "stderr",
     "output_type": "stream",
     "text": [
      "INFO:tensorflow:Assets written to: model\\assets\n"
     ]
    },
    {
     "name": "stdout",
     "output_type": "stream",
     "text": [
      "597/597 [==============================] - 54s 91ms/step - loss: 0.2763 - accuracy: 0.9076 - val_loss: 0.2311 - val_accuracy: 0.9248\n",
      "Epoch 25/100\n",
      "596/597 [============================>.] - ETA: 0s - loss: 0.2705 - accuracy: 0.9079"
     ]
    },
    {
     "name": "stderr",
     "output_type": "stream",
     "text": [
      "WARNING:absl:Found untraced functions such as _jit_compiled_convolution_op, _jit_compiled_convolution_op, _jit_compiled_convolution_op, _jit_compiled_convolution_op, _jit_compiled_convolution_op while saving (showing 5 of 52). These functions will not be directly callable after loading.\n"
     ]
    },
    {
     "name": "stdout",
     "output_type": "stream",
     "text": [
      "INFO:tensorflow:Assets written to: model\\assets\n"
     ]
    },
    {
     "name": "stderr",
     "output_type": "stream",
     "text": [
      "INFO:tensorflow:Assets written to: model\\assets\n"
     ]
    },
    {
     "name": "stdout",
     "output_type": "stream",
     "text": [
      "597/597 [==============================] - 59s 99ms/step - loss: 0.2705 - accuracy: 0.9079 - val_loss: 0.2122 - val_accuracy: 0.9323\n",
      "Epoch 26/100\n",
      "597/597 [==============================] - 36s 59ms/step - loss: 0.2649 - accuracy: 0.9087 - val_loss: 0.2161 - val_accuracy: 0.9302\n",
      "Epoch 27/100\n",
      "597/597 [==============================] - 34s 57ms/step - loss: 0.2586 - accuracy: 0.9121 - val_loss: 0.2189 - val_accuracy: 0.9269\n",
      "Epoch 28/100\n",
      "596/597 [============================>.] - ETA: 0s - loss: 0.2535 - accuracy: 0.9128"
     ]
    },
    {
     "name": "stderr",
     "output_type": "stream",
     "text": [
      "WARNING:absl:Found untraced functions such as _jit_compiled_convolution_op, _jit_compiled_convolution_op, _jit_compiled_convolution_op, _jit_compiled_convolution_op, _jit_compiled_convolution_op while saving (showing 5 of 52). These functions will not be directly callable after loading.\n"
     ]
    },
    {
     "name": "stdout",
     "output_type": "stream",
     "text": [
      "INFO:tensorflow:Assets written to: model\\assets\n"
     ]
    },
    {
     "name": "stderr",
     "output_type": "stream",
     "text": [
      "INFO:tensorflow:Assets written to: model\\assets\n"
     ]
    },
    {
     "name": "stdout",
     "output_type": "stream",
     "text": [
      "597/597 [==============================] - 58s 98ms/step - loss: 0.2534 - accuracy: 0.9128 - val_loss: 0.2104 - val_accuracy: 0.9313\n",
      "Epoch 29/100\n",
      "597/597 [==============================] - 34s 55ms/step - loss: 0.2456 - accuracy: 0.9164 - val_loss: 0.2143 - val_accuracy: 0.9281\n",
      "Epoch 30/100\n",
      "597/597 [==============================] - ETA: 0s - loss: 0.2471 - accuracy: 0.9170"
     ]
    },
    {
     "name": "stderr",
     "output_type": "stream",
     "text": [
      "WARNING:absl:Found untraced functions such as _jit_compiled_convolution_op, _jit_compiled_convolution_op, _jit_compiled_convolution_op, _jit_compiled_convolution_op, _jit_compiled_convolution_op while saving (showing 5 of 52). These functions will not be directly callable after loading.\n"
     ]
    },
    {
     "name": "stdout",
     "output_type": "stream",
     "text": [
      "INFO:tensorflow:Assets written to: model\\assets\n"
     ]
    },
    {
     "name": "stderr",
     "output_type": "stream",
     "text": [
      "INFO:tensorflow:Assets written to: model\\assets\n"
     ]
    },
    {
     "name": "stdout",
     "output_type": "stream",
     "text": [
      "597/597 [==============================] - 52s 87ms/step - loss: 0.2471 - accuracy: 0.9170 - val_loss: 0.2023 - val_accuracy: 0.9325\n",
      "Epoch 31/100\n",
      "597/597 [==============================] - ETA: 0s - loss: 0.2455 - accuracy: 0.9162"
     ]
    },
    {
     "name": "stderr",
     "output_type": "stream",
     "text": [
      "WARNING:absl:Found untraced functions such as _jit_compiled_convolution_op, _jit_compiled_convolution_op, _jit_compiled_convolution_op, _jit_compiled_convolution_op, _jit_compiled_convolution_op while saving (showing 5 of 52). These functions will not be directly callable after loading.\n"
     ]
    },
    {
     "name": "stdout",
     "output_type": "stream",
     "text": [
      "INFO:tensorflow:Assets written to: model\\assets\n"
     ]
    },
    {
     "name": "stderr",
     "output_type": "stream",
     "text": [
      "INFO:tensorflow:Assets written to: model\\assets\n"
     ]
    },
    {
     "name": "stdout",
     "output_type": "stream",
     "text": [
      "597/597 [==============================] - 51s 85ms/step - loss: 0.2455 - accuracy: 0.9162 - val_loss: 0.1949 - val_accuracy: 0.9367\n",
      "Epoch 32/100\n",
      "597/597 [==============================] - 36s 59ms/step - loss: 0.2306 - accuracy: 0.9201 - val_loss: 0.2016 - val_accuracy: 0.9359\n",
      "Epoch 33/100\n",
      "597/597 [==============================] - 35s 57ms/step - loss: 0.2276 - accuracy: 0.9218 - val_loss: 0.1985 - val_accuracy: 0.9342\n",
      "Epoch 34/100\n",
      "597/597 [==============================] - ETA: 0s - loss: 0.2201 - accuracy: 0.9258"
     ]
    },
    {
     "name": "stderr",
     "output_type": "stream",
     "text": [
      "WARNING:absl:Found untraced functions such as _jit_compiled_convolution_op, _jit_compiled_convolution_op, _jit_compiled_convolution_op, _jit_compiled_convolution_op, _jit_compiled_convolution_op while saving (showing 5 of 52). These functions will not be directly callable after loading.\n"
     ]
    },
    {
     "name": "stdout",
     "output_type": "stream",
     "text": [
      "INFO:tensorflow:Assets written to: model\\assets\n"
     ]
    },
    {
     "name": "stderr",
     "output_type": "stream",
     "text": [
      "INFO:tensorflow:Assets written to: model\\assets\n"
     ]
    },
    {
     "name": "stdout",
     "output_type": "stream",
     "text": [
      "597/597 [==============================] - 59s 99ms/step - loss: 0.2201 - accuracy: 0.9258 - val_loss: 0.1944 - val_accuracy: 0.9336\n",
      "Epoch 35/100\n",
      "597/597 [==============================] - ETA: 0s - loss: 0.2212 - accuracy: 0.9225"
     ]
    },
    {
     "name": "stderr",
     "output_type": "stream",
     "text": [
      "WARNING:absl:Found untraced functions such as _jit_compiled_convolution_op, _jit_compiled_convolution_op, _jit_compiled_convolution_op, _jit_compiled_convolution_op, _jit_compiled_convolution_op while saving (showing 5 of 52). These functions will not be directly callable after loading.\n"
     ]
    },
    {
     "name": "stdout",
     "output_type": "stream",
     "text": [
      "INFO:tensorflow:Assets written to: model\\assets\n"
     ]
    },
    {
     "name": "stderr",
     "output_type": "stream",
     "text": [
      "INFO:tensorflow:Assets written to: model\\assets\n"
     ]
    },
    {
     "name": "stdout",
     "output_type": "stream",
     "text": [
      "597/597 [==============================] - 60s 99ms/step - loss: 0.2212 - accuracy: 0.9225 - val_loss: 0.1815 - val_accuracy: 0.9409\n",
      "Epoch 36/100\n",
      "597/597 [==============================] - 39s 65ms/step - loss: 0.2127 - accuracy: 0.9280 - val_loss: 0.1926 - val_accuracy: 0.9369\n",
      "Epoch 37/100\n",
      "597/597 [==============================] - 36s 61ms/step - loss: 0.2169 - accuracy: 0.9240 - val_loss: 0.1844 - val_accuracy: 0.9394\n",
      "Epoch 38/100\n",
      "597/597 [==============================] - 34s 57ms/step - loss: 0.2083 - accuracy: 0.9276 - val_loss: 0.1872 - val_accuracy: 0.9369\n",
      "Epoch 39/100\n",
      "596/597 [============================>.] - ETA: 0s - loss: 0.2063 - accuracy: 0.9304"
     ]
    },
    {
     "name": "stderr",
     "output_type": "stream",
     "text": [
      "WARNING:absl:Found untraced functions such as _jit_compiled_convolution_op, _jit_compiled_convolution_op, _jit_compiled_convolution_op, _jit_compiled_convolution_op, _jit_compiled_convolution_op while saving (showing 5 of 52). These functions will not be directly callable after loading.\n"
     ]
    },
    {
     "name": "stdout",
     "output_type": "stream",
     "text": [
      "INFO:tensorflow:Assets written to: model\\assets\n"
     ]
    },
    {
     "name": "stderr",
     "output_type": "stream",
     "text": [
      "INFO:tensorflow:Assets written to: model\\assets\n"
     ]
    },
    {
     "name": "stdout",
     "output_type": "stream",
     "text": [
      "597/597 [==============================] - 68s 114ms/step - loss: 0.2062 - accuracy: 0.9305 - val_loss: 0.1737 - val_accuracy: 0.9451\n",
      "Epoch 40/100\n",
      "597/597 [==============================] - 40s 66ms/step - loss: 0.2053 - accuracy: 0.9285 - val_loss: 0.1802 - val_accuracy: 0.9390\n",
      "Epoch 41/100\n",
      "597/597 [==============================] - ETA: 0s - loss: 0.2007 - accuracy: 0.9290"
     ]
    },
    {
     "name": "stderr",
     "output_type": "stream",
     "text": [
      "WARNING:absl:Found untraced functions such as _jit_compiled_convolution_op, _jit_compiled_convolution_op, _jit_compiled_convolution_op, _jit_compiled_convolution_op, _jit_compiled_convolution_op while saving (showing 5 of 52). These functions will not be directly callable after loading.\n"
     ]
    },
    {
     "name": "stdout",
     "output_type": "stream",
     "text": [
      "INFO:tensorflow:Assets written to: model\\assets\n"
     ]
    },
    {
     "name": "stderr",
     "output_type": "stream",
     "text": [
      "INFO:tensorflow:Assets written to: model\\assets\n"
     ]
    },
    {
     "name": "stdout",
     "output_type": "stream",
     "text": [
      "597/597 [==============================] - 59s 99ms/step - loss: 0.2007 - accuracy: 0.9290 - val_loss: 0.1713 - val_accuracy: 0.9430\n",
      "Epoch 42/100\n",
      "597/597 [==============================] - 38s 62ms/step - loss: 0.1918 - accuracy: 0.9331 - val_loss: 0.1728 - val_accuracy: 0.9440\n",
      "Epoch 43/100\n",
      "596/597 [============================>.] - ETA: 0s - loss: 0.1898 - accuracy: 0.9348"
     ]
    },
    {
     "name": "stderr",
     "output_type": "stream",
     "text": [
      "WARNING:absl:Found untraced functions such as _jit_compiled_convolution_op, _jit_compiled_convolution_op, _jit_compiled_convolution_op, _jit_compiled_convolution_op, _jit_compiled_convolution_op while saving (showing 5 of 52). These functions will not be directly callable after loading.\n"
     ]
    },
    {
     "name": "stdout",
     "output_type": "stream",
     "text": [
      "INFO:tensorflow:Assets written to: model\\assets\n"
     ]
    },
    {
     "name": "stderr",
     "output_type": "stream",
     "text": [
      "INFO:tensorflow:Assets written to: model\\assets\n"
     ]
    },
    {
     "name": "stdout",
     "output_type": "stream",
     "text": [
      "597/597 [==============================] - 60s 100ms/step - loss: 0.1900 - accuracy: 0.9347 - val_loss: 0.1651 - val_accuracy: 0.9447\n",
      "Epoch 44/100\n",
      "597/597 [==============================] - 34s 56ms/step - loss: 0.1868 - accuracy: 0.9348 - val_loss: 0.1704 - val_accuracy: 0.9451\n",
      "Epoch 45/100\n",
      "596/597 [============================>.] - ETA: 0s - loss: 0.1866 - accuracy: 0.9368"
     ]
    },
    {
     "name": "stderr",
     "output_type": "stream",
     "text": [
      "WARNING:absl:Found untraced functions such as _jit_compiled_convolution_op, _jit_compiled_convolution_op, _jit_compiled_convolution_op, _jit_compiled_convolution_op, _jit_compiled_convolution_op while saving (showing 5 of 52). These functions will not be directly callable after loading.\n"
     ]
    },
    {
     "name": "stdout",
     "output_type": "stream",
     "text": [
      "INFO:tensorflow:Assets written to: model\\assets\n"
     ]
    },
    {
     "name": "stderr",
     "output_type": "stream",
     "text": [
      "INFO:tensorflow:Assets written to: model\\assets\n"
     ]
    },
    {
     "name": "stdout",
     "output_type": "stream",
     "text": [
      "597/597 [==============================] - 63s 105ms/step - loss: 0.1865 - accuracy: 0.9368 - val_loss: 0.1572 - val_accuracy: 0.9478\n",
      "Epoch 46/100\n",
      "597/597 [==============================] - 35s 58ms/step - loss: 0.1818 - accuracy: 0.9357 - val_loss: 0.1635 - val_accuracy: 0.9424\n",
      "Epoch 47/100\n",
      "597/597 [==============================] - 34s 56ms/step - loss: 0.1795 - accuracy: 0.9378 - val_loss: 0.1686 - val_accuracy: 0.9422\n",
      "Epoch 48/100\n",
      "597/597 [==============================] - 39s 65ms/step - loss: 0.1747 - accuracy: 0.9387 - val_loss: 0.1590 - val_accuracy: 0.9464\n",
      "Epoch 49/100\n",
      "597/597 [==============================] - 40s 67ms/step - loss: 0.1749 - accuracy: 0.9406 - val_loss: 0.1575 - val_accuracy: 0.9470\n",
      "Epoch 50/100\n",
      "597/597 [==============================] - 39s 64ms/step - loss: 0.1685 - accuracy: 0.9415 - val_loss: 0.1599 - val_accuracy: 0.9466\n"
     ]
    }
   ],
   "source": [
    "history = model.fit(\n",
    "    train_ds,\n",
    "    epochs=EPOCHS,\n",
    "    validation_data=val_ds,\n",
    "    callbacks=callbacks\n",
    ")"
   ]
  },
  {
   "cell_type": "markdown",
   "metadata": {},
   "source": [
    "***Saving the class names for future inference***"
   ]
  },
  {
   "cell_type": "code",
   "execution_count": 10,
   "metadata": {},
   "outputs": [
    {
     "data": {
      "text/plain": [
       "['Bacterial_spot',\n",
       " 'Early_blight',\n",
       " 'Late_blight',\n",
       " 'Leaf_Mold',\n",
       " 'Septoria_leaf_spot',\n",
       " 'Spider_mites Two-spotted_spider_mite',\n",
       " 'Target_Spot',\n",
       " 'Tomato_Yellow_Leaf_Curl_Virus',\n",
       " 'Tomato_mosaic_virus',\n",
       " 'healthy',\n",
       " 'powdery_mildew']"
      ]
     },
     "execution_count": 10,
     "metadata": {},
     "output_type": "execute_result"
    }
   ],
   "source": [
    "train_ds.class_names"
   ]
  },
  {
   "cell_type": "code",
   "execution_count": 11,
   "metadata": {},
   "outputs": [],
   "source": [
    "class_names = {'class_names':   \n",
    "    ['Bacterial Spot',\n",
    "    'Early Blight',\n",
    "    'Late Blight',\n",
    "    'Leaf Mold',\n",
    "    'Septoria Leaf Spot',\n",
    "    'Spider Mites (Two-Spotted Spider Mite)',\n",
    "    'Target Spot',\n",
    "    'Yellow Leaf Curl Virus',\n",
    "    'Mosaic Virus',\n",
    "    'Healthy',\n",
    "    'Powdery Mildew']\n",
    "}\n",
    "                                \n",
    "\n",
    "\n",
    "file_path = './labels.json'\n",
    "\n",
    "if os.path.exists(file_path):\n",
    "    os.remove(file_path)\n",
    "\n",
    "with open(file_path,'w') as f:\n",
    "    json.dump(class_names,f)"
   ]
  },
  {
   "cell_type": "markdown",
   "metadata": {},
   "source": [
    "***Loading the Saved Model and Evaluating on the Test Data***"
   ]
  },
  {
   "cell_type": "code",
   "execution_count": 16,
   "metadata": {},
   "outputs": [
    {
     "name": "stdout",
     "output_type": "stream",
     "text": [
      "209/209 [==============================] - 13s 54ms/step - loss: 0.2403 - accuracy: 0.9298\n"
     ]
    },
    {
     "data": {
      "text/plain": [
       "[0.24027277529239655, 0.9297693967819214]"
      ]
     },
     "execution_count": 16,
     "metadata": {},
     "output_type": "execute_result"
    }
   ],
   "source": [
    "saved_model = keras.models.load_model('model/')\n",
    "saved_model.evaluate(test_ds)"
   ]
  },
  {
   "cell_type": "code",
   "execution_count": 17,
   "metadata": {},
   "outputs": [],
   "source": [
    "def evaluation(model, test_ds):\n",
    "    test_ds = test_ds.unbatch().batch(1)\n",
    "    y_true = []\n",
    "    y_pred = []\n",
    "    for i in test_ds:\n",
    "        y_true.append(i[1][0])\n",
    "        y_pred.append(np.argmax(model.predict(i[0],verbose=False)))\n",
    "\n",
    "    print(classification_report(y_true, y_pred,target_names=train_ds.class_names))\n",
    "    return confusion_matrix(y_true, y_pred)\n"
   ]
  },
  {
   "cell_type": "code",
   "execution_count": 18,
   "metadata": {},
   "outputs": [
    {
     "name": "stdout",
     "output_type": "stream",
     "text": [
      "                                      precision    recall  f1-score   support\n",
      "\n",
      "                      Bacterial_spot       0.96      0.80      0.87       732\n",
      "                        Early_blight       0.92      0.88      0.90       641\n",
      "                         Late_blight       0.92      0.94      0.93       791\n",
      "                           Leaf_Mold       0.92      0.95      0.93       739\n",
      "                  Septoria_leaf_spot       0.87      0.93      0.90       745\n",
      "Spider_mites Two-spotted_spider_mite       0.91      0.96      0.94       435\n",
      "                         Target_Spot       0.90      0.90      0.90       457\n",
      "       Tomato_Yellow_Leaf_Curl_Virus       0.98      0.98      0.98       498\n",
      "                 Tomato_mosaic_virus       0.97      0.98      0.97       584\n",
      "                             healthy       0.98      0.98      0.98       804\n",
      "                      powdery_mildew       0.86      0.98      0.92       252\n",
      "\n",
      "                            accuracy                           0.93      6678\n",
      "                           macro avg       0.93      0.93      0.93      6678\n",
      "                        weighted avg       0.93      0.93      0.93      6678\n",
      "\n"
     ]
    }
   ],
   "source": [
    "cm = evaluation(saved_model, test_ds)"
   ]
  },
  {
   "cell_type": "code",
   "execution_count": 20,
   "metadata": {},
   "outputs": [
    {
     "data": {
      "image/png": "[encoded data removed]",
      "text/plain": [
       "<Figure size 1200x600 with 2 Axes>"
      ]
     },
     "metadata": {},
     "output_type": "display_data"
    }
   ],
   "source": [
    "plt.figure(figsize=(12,6))\n",
    "sn.heatmap(cm, annot=True, cmap='coolwarm',xticklabels=train_ds.class_names,yticklabels=train_ds.class_names)\n",
    "plt.title('Confusion Matrix')\n",
    "plt.ylabel('True Label')\n",
    "plt.xlabel('Predicted Label')\n",
    "plt.show()"
   ]
  }
 ],
 "metadata": {
  "kernelspec": {
   "display_name": "tf",
   "language": "python",
   "name": "python3"
  },
  "language_info": {
   "codemirror_mode": {
    "name": "ipython",
    "version": 3
   },
   "file_extension": ".py",
   "mimetype": "text/x-python",
   "name": "python",
   "nbconvert_exporter": "python",
   "pygments_lexer": "ipython3",
   "version": "3.9.19"
  }
 },
 "nbformat": 4,
 "nbformat_minor": 2
}
